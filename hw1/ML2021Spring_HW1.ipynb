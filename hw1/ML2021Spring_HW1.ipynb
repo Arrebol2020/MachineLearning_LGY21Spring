{
  "nbformat": 4,
  "nbformat_minor": 0,
  "metadata": {
    "colab": {
      "name": "ML2021Spring_HW1.ipynb",
      "provenance": [],
      "collapsed_sections": []
    },
    "kernelspec": {
      "name": "python3",
      "display_name": "Python 3"
    },
    "accelerator": "GPU"
  },
  "cells": [
    {
      "cell_type": "markdown",
      "metadata": {
        "id": "mz0_QVkxCrX3"
      },
      "source": [
        "# **Homework 1: COVID-19 Cases Prediction (Regression)**"
      ]
    },
    {
      "cell_type": "markdown",
      "metadata": {
        "id": "ZeZnPAiwDRWG"
      },
      "source": [
        "Author: Heng-Jui Chang\n",
        "\n",
        "Slides: https://github.com/ga642381/ML2021-Spring/blob/main/HW01/HW01.pdf  \n",
        "Video: TBA\n",
        "\n",
        "Objectives:\n",
        "* Solve a regression problem with deep neural networks (DNN).\n",
        "* Understand basic DNN training tips.\n",
        "* Get familiar with PyTorch.\n",
        "\n",
        "If any questions, please contact the TAs via TA hours, NTU COOL, or email.\n"
      ]
    },
    {
      "cell_type": "markdown",
      "metadata": {
        "id": "Jx3x1nDkG-Uy"
      },
      "source": [
        "# **Download Data**\n",
        "\n",
        "\n",
        "If the Google drive links are dead, you can download data from [kaggle](https://www.kaggle.com/c/ml2021spring-hw1/data), and upload data manually to the workspace."
      ]
    },
    {
      "cell_type": "code",
      "metadata": {
        "colab": {
          "base_uri": "https://localhost:8080/"
        },
        "id": "tMj55YDKG6ch",
        "outputId": "dd83ca8b-dffb-48d4-8ded-f98380148fd9"
      },
      "source": [
        "tr_path = 'covid.train.csv'  # path to training data\n",
        "tt_path = 'covid.test.csv'   # path to testing data\n",
        "\n",
        "!gdown --id '19CCyCgJrUxtvgZF53vnctJiOJ23T5mqF' --output covid.train.csv\n",
        "!gdown --id '1CE240jLm2npU-tdz81-oVKEF3T2yfT1O' --output covid.test.csv"
      ],
      "execution_count": 1,
      "outputs": [
        {
          "output_type": "stream",
          "text": [
            "Downloading...\n",
            "From: https://drive.google.com/uc?id=19CCyCgJrUxtvgZF53vnctJiOJ23T5mqF\n",
            "To: /content/covid.train.csv\n",
            "100% 2.00M/2.00M [00:00<00:00, 64.1MB/s]\n",
            "Downloading...\n",
            "From: https://drive.google.com/uc?id=1CE240jLm2npU-tdz81-oVKEF3T2yfT1O\n",
            "To: /content/covid.test.csv\n",
            "100% 651k/651k [00:00<00:00, 91.6MB/s]\n"
          ],
          "name": "stdout"
        }
      ]
    },
    {
      "cell_type": "markdown",
      "metadata": {
        "id": "R1b3NodPbwLz"
      },
      "source": [
        "# 新段落"
      ]
    },
    {
      "cell_type": "markdown",
      "metadata": {
        "id": "wS_4-77xHk44"
      },
      "source": [
        "# **Import Some Packages**"
      ]
    },
    {
      "cell_type": "code",
      "metadata": {
        "id": "k-onQd4JNA5H"
      },
      "source": [
        "# PyTorch\n",
        "import torch\n",
        "import torch.nn as nn\n",
        "from torch.utils.data import Dataset, DataLoader\n",
        "\n",
        "# For data preprocess\n",
        "import numpy as np\n",
        "import csv\n",
        "import os\n",
        "\n",
        "# For plotting\n",
        "import matplotlib.pyplot as plt\n",
        "from matplotlib.pyplot import figure\n",
        "\n",
        "from sklearn.model_selection import StratifiedKFold\n",
        "\n",
        "myseed = 820  # set a random seed for reproducibility\n",
        "torch.backends.cudnn.deterministic = True\n",
        "torch.backends.cudnn.benchmark = False\n",
        "np.random.seed(myseed)\n",
        "torch.manual_seed(myseed)\n",
        "if torch.cuda.is_available():\n",
        "    torch.cuda.manual_seed_all(myseed)"
      ],
      "execution_count": 2,
      "outputs": []
    },
    {
      "cell_type": "markdown",
      "metadata": {
        "id": "BtE3b6JEH7rw"
      },
      "source": [
        "# **Some Utilities**\n",
        "\n",
        "You do not need to modify this part."
      ]
    },
    {
      "cell_type": "code",
      "metadata": {
        "id": "FWMT3uf1NGQp"
      },
      "source": [
        "def get_device():\n",
        "    ''' Get device (if GPU is available, use GPU) '''\n",
        "    return 'cuda' if torch.cuda.is_available() else 'cpu'\n",
        "\n",
        "def plot_learning_curve(loss_record, title=''):\n",
        "    ''' Plot learning curve of your DNN (train & dev loss) '''\n",
        "    total_steps = len(loss_record['train'])\n",
        "    x_1 = range(total_steps)\n",
        "    x_2 = x_1[::len(loss_record['train']) // len(loss_record['dev'])]\n",
        "    figure(figsize=(6, 4))\n",
        "    plt.plot(x_1, loss_record['train'], c='tab:red', label='train')\n",
        "    plt.plot(x_2, loss_record['dev'], c='tab:cyan', label='dev')\n",
        "    plt.ylim(0.0, 5.)\n",
        "    plt.xlabel('Training steps')\n",
        "    plt.ylabel('MSE loss')\n",
        "    plt.title('Learning curve of {}'.format(title))\n",
        "    plt.legend()\n",
        "    plt.show()\n",
        "\n",
        "\n",
        "def plot_pred(dv_set, model, device, lim=35., preds=None, targets=None):\n",
        "    ''' Plot prediction of your DNN '''\n",
        "    if preds is None or targets is None:\n",
        "        model.eval()\n",
        "        preds, targets = [], []\n",
        "        for x, y in dv_set:\n",
        "            x, y = x.to(device), y.to(device)\n",
        "            with torch.no_grad():\n",
        "                pred = model(x)\n",
        "                preds.append(pred.detach().cpu())\n",
        "                targets.append(y.detach().cpu())\n",
        "        preds = torch.cat(preds, dim=0).numpy()\n",
        "        targets = torch.cat(targets, dim=0).numpy()\n",
        "\n",
        "    figure(figsize=(5, 5))\n",
        "    plt.scatter(targets, preds, c='r', alpha=0.5)\n",
        "    plt.plot([-0.2, lim], [-0.2, lim], c='b')\n",
        "    plt.xlim(-0.2, lim)\n",
        "    plt.ylim(-0.2, lim)\n",
        "    plt.xlabel('ground truth value')\n",
        "    plt.ylabel('predicted value')\n",
        "    plt.title('Ground Truth v.s. Prediction')\n",
        "    plt.show()"
      ],
      "execution_count": 3,
      "outputs": []
    },
    {
      "cell_type": "markdown",
      "metadata": {
        "id": "39U_XFX6KOoj"
      },
      "source": [
        "# **Preprocess**\n",
        "\n",
        "We have three kinds of datasets:\n",
        "* `train`: for training\n",
        "* `dev`: for validation\n",
        "* `test`: for testing (w/o target value)"
      ]
    },
    {
      "cell_type": "markdown",
      "metadata": {
        "id": "TQ-MdwpLL7Dt"
      },
      "source": [
        "## **Dataset**\n",
        "\n",
        "The `COVID19Dataset` below does:\n",
        "* read `.csv` files\n",
        "* extract features\n",
        "* split `covid.train.csv` into train/dev sets\n",
        "* normalize features\n",
        "\n",
        "Finishing `TODO` below might make you pass medium baseline."
      ]
    },
    {
      "cell_type": "code",
      "metadata": {
        "colab": {
          "base_uri": "https://localhost:8080/"
        },
        "id": "vVSKSeL1399U",
        "outputId": "1888bf2e-3e37-4a0c-bdf1-675fcb4cf093"
      },
      "source": [
        "with open('covid.train.csv', 'r') as fp:\n",
        "  data = list(csv.reader(fp))  # 将读取到的数据转化为list，其中data[0]为表头，data[1]为第一行数据\n",
        "  row = data[0]\n",
        "  row = data[0][1:]\n",
        "  feats = list(range(52))\n",
        "  feats.append(57)\n",
        "  feats = feats + list(range(58, 70))\n",
        "  feats.append(75)\n",
        "  feats = feats + list(range(76, 88))\n",
        "\n",
        "  data = np.array(data[1:])[:, 1:].astype(float)[:, feats]\n",
        "\n",
        "  print(len(data))\n",
        "  indices = [i for i in range(len(data)) if i % 5 == 0]\n",
        "  print(indices)\n",
        "\n",
        "  print(row)\n",
        "  split1 = row[:40]\n",
        "  print(split1)\n",
        "  split1_1 = row[44:52]\n",
        "  print(split1_1)\n",
        "  t1 = row[57]\n",
        "  print(t1)\n",
        "  split2 = row[62:70]\n",
        "  print(split2)\n",
        "  t2 = row[75]\n",
        "  print(t2)\n",
        "  split3 = row[80:88]\n",
        "  print(split3)\n",
        "  result = split1 + [t1] + split2 + [t2] + split3\n",
        "  print(len(result))"
      ],
      "execution_count": 4,
      "outputs": [
        {
          "output_type": "stream",
          "text": [
            "2700\n",
            "[0, 5, 10, 15, 20, 25, 30, 35, 40, 45, 50, 55, 60, 65, 70, 75, 80, 85, 90, 95, 100, 105, 110, 115, 120, 125, 130, 135, 140, 145, 150, 155, 160, 165, 170, 175, 180, 185, 190, 195, 200, 205, 210, 215, 220, 225, 230, 235, 240, 245, 250, 255, 260, 265, 270, 275, 280, 285, 290, 295, 300, 305, 310, 315, 320, 325, 330, 335, 340, 345, 350, 355, 360, 365, 370, 375, 380, 385, 390, 395, 400, 405, 410, 415, 420, 425, 430, 435, 440, 445, 450, 455, 460, 465, 470, 475, 480, 485, 490, 495, 500, 505, 510, 515, 520, 525, 530, 535, 540, 545, 550, 555, 560, 565, 570, 575, 580, 585, 590, 595, 600, 605, 610, 615, 620, 625, 630, 635, 640, 645, 650, 655, 660, 665, 670, 675, 680, 685, 690, 695, 700, 705, 710, 715, 720, 725, 730, 735, 740, 745, 750, 755, 760, 765, 770, 775, 780, 785, 790, 795, 800, 805, 810, 815, 820, 825, 830, 835, 840, 845, 850, 855, 860, 865, 870, 875, 880, 885, 890, 895, 900, 905, 910, 915, 920, 925, 930, 935, 940, 945, 950, 955, 960, 965, 970, 975, 980, 985, 990, 995, 1000, 1005, 1010, 1015, 1020, 1025, 1030, 1035, 1040, 1045, 1050, 1055, 1060, 1065, 1070, 1075, 1080, 1085, 1090, 1095, 1100, 1105, 1110, 1115, 1120, 1125, 1130, 1135, 1140, 1145, 1150, 1155, 1160, 1165, 1170, 1175, 1180, 1185, 1190, 1195, 1200, 1205, 1210, 1215, 1220, 1225, 1230, 1235, 1240, 1245, 1250, 1255, 1260, 1265, 1270, 1275, 1280, 1285, 1290, 1295, 1300, 1305, 1310, 1315, 1320, 1325, 1330, 1335, 1340, 1345, 1350, 1355, 1360, 1365, 1370, 1375, 1380, 1385, 1390, 1395, 1400, 1405, 1410, 1415, 1420, 1425, 1430, 1435, 1440, 1445, 1450, 1455, 1460, 1465, 1470, 1475, 1480, 1485, 1490, 1495, 1500, 1505, 1510, 1515, 1520, 1525, 1530, 1535, 1540, 1545, 1550, 1555, 1560, 1565, 1570, 1575, 1580, 1585, 1590, 1595, 1600, 1605, 1610, 1615, 1620, 1625, 1630, 1635, 1640, 1645, 1650, 1655, 1660, 1665, 1670, 1675, 1680, 1685, 1690, 1695, 1700, 1705, 1710, 1715, 1720, 1725, 1730, 1735, 1740, 1745, 1750, 1755, 1760, 1765, 1770, 1775, 1780, 1785, 1790, 1795, 1800, 1805, 1810, 1815, 1820, 1825, 1830, 1835, 1840, 1845, 1850, 1855, 1860, 1865, 1870, 1875, 1880, 1885, 1890, 1895, 1900, 1905, 1910, 1915, 1920, 1925, 1930, 1935, 1940, 1945, 1950, 1955, 1960, 1965, 1970, 1975, 1980, 1985, 1990, 1995, 2000, 2005, 2010, 2015, 2020, 2025, 2030, 2035, 2040, 2045, 2050, 2055, 2060, 2065, 2070, 2075, 2080, 2085, 2090, 2095, 2100, 2105, 2110, 2115, 2120, 2125, 2130, 2135, 2140, 2145, 2150, 2155, 2160, 2165, 2170, 2175, 2180, 2185, 2190, 2195, 2200, 2205, 2210, 2215, 2220, 2225, 2230, 2235, 2240, 2245, 2250, 2255, 2260, 2265, 2270, 2275, 2280, 2285, 2290, 2295, 2300, 2305, 2310, 2315, 2320, 2325, 2330, 2335, 2340, 2345, 2350, 2355, 2360, 2365, 2370, 2375, 2380, 2385, 2390, 2395, 2400, 2405, 2410, 2415, 2420, 2425, 2430, 2435, 2440, 2445, 2450, 2455, 2460, 2465, 2470, 2475, 2480, 2485, 2490, 2495, 2500, 2505, 2510, 2515, 2520, 2525, 2530, 2535, 2540, 2545, 2550, 2555, 2560, 2565, 2570, 2575, 2580, 2585, 2590, 2595, 2600, 2605, 2610, 2615, 2620, 2625, 2630, 2635, 2640, 2645, 2650, 2655, 2660, 2665, 2670, 2675, 2680, 2685, 2690, 2695]\n",
            "['AL', 'AK', 'AZ', 'AR', 'CA', 'CO', 'CT', 'FL', 'GA', 'ID', 'IL', 'IN', 'IA', 'KS', 'KY', 'LA', 'MD', 'MA', 'MI', 'MN', 'MS', 'MO', 'NE', 'NV', 'NJ', 'NM', 'NY', 'NC', 'OH', 'OK', 'OR', 'PA', 'RI', 'SC', 'TX', 'UT', 'VA', 'WA', 'WV', 'WI', 'cli', 'ili', 'hh_cmnty_cli', 'nohh_cmnty_cli', 'wearing_mask', 'travel_outside_state', 'work_outside_home', 'shop', 'restaurant', 'spent_time', 'large_event', 'public_transit', 'anxious', 'depressed', 'felt_isolated', 'worried_become_ill', 'worried_finances', 'tested_positive', 'cli', 'ili', 'hh_cmnty_cli', 'nohh_cmnty_cli', 'wearing_mask', 'travel_outside_state', 'work_outside_home', 'shop', 'restaurant', 'spent_time', 'large_event', 'public_transit', 'anxious', 'depressed', 'felt_isolated', 'worried_become_ill', 'worried_finances', 'tested_positive', 'cli', 'ili', 'hh_cmnty_cli', 'nohh_cmnty_cli', 'wearing_mask', 'travel_outside_state', 'work_outside_home', 'shop', 'restaurant', 'spent_time', 'large_event', 'public_transit', 'anxious', 'depressed', 'felt_isolated', 'worried_become_ill', 'worried_finances', 'tested_positive']\n",
            "['AL', 'AK', 'AZ', 'AR', 'CA', 'CO', 'CT', 'FL', 'GA', 'ID', 'IL', 'IN', 'IA', 'KS', 'KY', 'LA', 'MD', 'MA', 'MI', 'MN', 'MS', 'MO', 'NE', 'NV', 'NJ', 'NM', 'NY', 'NC', 'OH', 'OK', 'OR', 'PA', 'RI', 'SC', 'TX', 'UT', 'VA', 'WA', 'WV', 'WI']\n",
            "['wearing_mask', 'travel_outside_state', 'work_outside_home', 'shop', 'restaurant', 'spent_time', 'large_event', 'public_transit']\n",
            "tested_positive\n",
            "['wearing_mask', 'travel_outside_state', 'work_outside_home', 'shop', 'restaurant', 'spent_time', 'large_event', 'public_transit']\n",
            "tested_positive\n",
            "['wearing_mask', 'travel_outside_state', 'work_outside_home', 'shop', 'restaurant', 'spent_time', 'large_event', 'public_transit']\n",
            "58\n"
          ],
          "name": "stdout"
        }
      ]
    },
    {
      "cell_type": "code",
      "metadata": {
        "id": "0zlpIp9ANJRU"
      },
      "source": [
        "class COVID19Dataset(Dataset):\n",
        "    ''' Dataset for loading and preprocessing the COVID19 dataset '''\n",
        "    def __init__(self,\n",
        "                 path,\n",
        "                 fold_num,\n",
        "                 mode='train',\n",
        "                 target_only=False):\n",
        "        self.mode = mode\n",
        "\n",
        "        # Read data into numpy arrays\n",
        "        with open(path, 'r') as fp:\n",
        "            data = list(csv.reader(fp))  # 将读取到的数据转化为list，其中data[0]为表头，data[1]为第一行数据\n",
        "            data = np.array(data[1:])[:, 1:].astype(float)  # 将data数据去除第一行表头，同时去除第一列数据，随后转化为np的array形式\n",
        "        \n",
        "        if not target_only:\n",
        "            # feats = list(range(93))\n",
        "            \"\"\"\n",
        "            feats = list(range(40))\n",
        "            feats = feats + list(range(44, 52))\n",
        "            feats.append(57)\n",
        "            feats = feats + list(range(62, 70))\n",
        "            feats.append(75)\n",
        "            feats = feats + list(range(80, 88))\n",
        "            \"\"\"\n",
        "            feats = list(range(52))\n",
        "            feats.append(57)\n",
        "            feats = feats + list(range(58, 70))\n",
        "            feats.append(75)\n",
        "            feats = feats + list(range(76, 88))\n",
        "\n",
        "        else:\n",
        "            # TODO: Using 40 states & 2 tested_positive features (indices = 57 & 75)\n",
        "            # 仅使用前40个特征和两个tested_positive特征\n",
        "            feats = list(range(40))\n",
        "            feats.append(57)\n",
        "            feats.append(75)\n",
        "\n",
        "        if mode == 'test':\n",
        "            # Testing data\n",
        "            # data: 893 x 93 (40 states + day 1 (18) + day 2 (18) + day 3 (17))\n",
        "            data = data[:, feats]\n",
        "            self.data = torch.FloatTensor(data)  # 将data转化为PyTorch的Tensor形式\n",
        "        else:\n",
        "            # Training data (train/dev sets)\n",
        "            # data: 2700 x 94 (40 states + day 1 (18) + day 2 (18) + day 3 (18))\n",
        "            target = data[:, -1]  # 取最后一行作为label\n",
        "            data = data[:, feats]\n",
        "            \n",
        "            \n",
        "            # Splitting training data into train & dev sets\n",
        "            # 将数据集以1:9分为dev set和train set\n",
        "            if mode == 'train':\n",
        "                indices = [i for i in range(len(data)) if i % 5 != fold_num]\n",
        "            elif mode == 'dev':\n",
        "                indices = [i for i in range(len(data)) if i % 5 == fold_num]\n",
        "            \n",
        "            # Convert data into PyTorch tensors\n",
        "            self.data = torch.FloatTensor(data[indices])\n",
        "            self.target = torch.FloatTensor(target[indices])\n",
        "\n",
        "        # Normalize features (you may remove this part to see what will happen)\n",
        "        self.data[:, 40:] = \\\n",
        "            (self.data[:, 40:] - self.data[:, 40:].mean(dim=0, keepdim=True)) \\\n",
        "            / self.data[:, 40:].std(dim=0, keepdim=True)\n",
        "\n",
        "        self.dim = self.data.shape[1]\n",
        "\n",
        "        print('Finished reading the {} set of COVID19 Dataset ({} samples found, each dim = {})'\n",
        "              .format(mode, len(self.data), self.dim))\n",
        "\n",
        "    def __getitem__(self, index):\n",
        "        # Returns one sample at a time\n",
        "        if self.mode in ['train', 'dev']:\n",
        "            # For training\n",
        "            return self.data[index], self.target[index]\n",
        "        else:\n",
        "            # For testing (no target)\n",
        "            return self.data[index]\n",
        "\n",
        "    def __len__(self):\n",
        "        # Returns the size of the dataset\n",
        "        return len(self.data)"
      ],
      "execution_count": 5,
      "outputs": []
    },
    {
      "cell_type": "markdown",
      "metadata": {
        "id": "AlhTlkE7MDo3"
      },
      "source": [
        "## **DataLoader**\n",
        "\n",
        "A `DataLoader` loads data from a given `Dataset` into batches.\n"
      ]
    },
    {
      "cell_type": "code",
      "metadata": {
        "id": "hlhLk5t6MBX3"
      },
      "source": [
        "def prep_dataloader(path, mode, batch_size, fold_num, n_jobs=0, target_only=False):\n",
        "    ''' Generates a dataset, then is put into a dataloader. '''\n",
        "    dataset = COVID19Dataset(path, fold_num, mode=mode, target_only=target_only)  # Construct dataset\n",
        "    dataloader = DataLoader(\n",
        "        dataset, batch_size,\n",
        "        shuffle=(mode == 'train'), drop_last=False,\n",
        "        num_workers=n_jobs, pin_memory=True)                            # Construct dataloader\n",
        "    return dataloader\n"
      ],
      "execution_count": 6,
      "outputs": []
    },
    {
      "cell_type": "markdown",
      "metadata": {
        "id": "SGuycwR0MeQB"
      },
      "source": [
        "# **Deep Neural Network**\n",
        "\n",
        "`NeuralNet` is an `nn.Module` designed for regression.\n",
        "The DNN consists of 2 fully-connected layers with ReLU activation.\n",
        "This module also included a function `cal_loss` for calculating loss.\n"
      ]
    },
    {
      "cell_type": "code",
      "metadata": {
        "id": "49-uXYovOAI0"
      },
      "source": [
        "class NeuralNet(nn.Module):\n",
        "    ''' A simple fully-connected deep neural network '''\n",
        "    def __init__(self, input_dim):\n",
        "        super(NeuralNet, self).__init__()\n",
        "\n",
        "        # Define your neural network here\n",
        "        # TODO: How to modify this model to achieve better performance?\n",
        "        \"\"\"self.net = nn.Sequential(\n",
        "            nn.Linear(input_dim, 64),\n",
        "            nn.ReLU(),\n",
        "            nn.Linear(64, 1)\n",
        "        )\"\"\"\n",
        "\n",
        "        self.net = nn.Sequential(\n",
        "            nn.Linear(input_dim, 256),\n",
        "            nn.Dropout(0.5),\n",
        "            nn.SiLU(),\n",
        "            nn.Linear(256, 128),\n",
        "            nn.SiLU(),\n",
        "            nn.Linear(128, 1)\n",
        "        )\n",
        "\n",
        "\n",
        "        # Mean squared error loss\n",
        "        self.criterion = nn.MSELoss(reduction='mean')\n",
        "\n",
        "    def forward(self, x):\n",
        "        ''' Given input of size (batch_size x input_dim), compute output of the network '''\n",
        "        return self.net(x).squeeze(1)\n",
        "\n",
        "    def cal_loss(self, pred, target):\n",
        "        ''' Calculate loss '''\n",
        "        # TODO: you may implement L2 regularization here\n",
        "        return self.criterion(pred, target)"
      ],
      "execution_count": 7,
      "outputs": []
    },
    {
      "cell_type": "markdown",
      "metadata": {
        "id": "DvFWVjZ5Nvga"
      },
      "source": [
        "# **Train/Dev/Test**"
      ]
    },
    {
      "cell_type": "markdown",
      "metadata": {
        "id": "MAM8QecJOyqn"
      },
      "source": [
        "## **Training**"
      ]
    },
    {
      "cell_type": "code",
      "metadata": {
        "id": "lOqcmYzMO7jB"
      },
      "source": [
        "def train(tr_set, dv_set, model, config, device, fold_num):\n",
        "    ''' DNN training '''\n",
        "\n",
        "    n_epochs = config['n_epochs']  # Maximum number of epochs\n",
        "\n",
        "    # Setup optimizer\n",
        "    optimizer = getattr(torch.optim, config['optimizer'])(\n",
        "        model.parameters(), **config['optim_hparas'])\n",
        "\n",
        "    min_mse = 1000.\n",
        "    loss_record = {'train': [], 'dev': []}      # for recording training loss\n",
        "    early_stop_cnt = 0\n",
        "    epoch = 0\n",
        "    while epoch < n_epochs:\n",
        "        model.train()                           # set model to training mode\n",
        "        for x, y in tr_set:                     # iterate through the dataloader\n",
        "            optimizer.zero_grad()               # set gradient to zero\n",
        "            x, y = x.to(device), y.to(device)   # move data to device (cpu/cuda)\n",
        "            pred = model(x)                     # forward pass (compute output)\n",
        "            mse_loss = model.cal_loss(pred, y)  # compute loss\n",
        "            mse_loss.backward()                 # compute gradient (backpropagation)\n",
        "            optimizer.step()                    # update model with optimizer\n",
        "            loss_record['train'].append(mse_loss.detach().cpu().item())\n",
        "\n",
        "        # After each epoch, test your model on the validation (development) set.\n",
        "        dev_mse = dev(dv_set, model, device)\n",
        "        if dev_mse < min_mse:\n",
        "            # Save model if your model improved\n",
        "            min_mse = dev_mse\n",
        "            print('Saving model (epoch = {:4d}, train loss = {:.4f}, dev loss = {:4f})'\n",
        "                .format(epoch + 1, mse_loss, min_mse))\n",
        "            torch.save(model.state_dict(), 'models/model' + str(fold_num) + '.pth')  # Save model to specified path\n",
        "            early_stop_cnt = 0\n",
        "        else:\n",
        "            early_stop_cnt += 1\n",
        "\n",
        "        epoch += 1\n",
        "        loss_record['dev'].append(dev_mse)\n",
        "        if early_stop_cnt > config['early_stop']:\n",
        "            # Stop training if your model stops improving for \"config['early_stop']\" epochs.\n",
        "            break\n",
        "\n",
        "    print('Finished training after {} epochs'.format(epoch))\n",
        "    return min_mse, loss_record"
      ],
      "execution_count": 8,
      "outputs": []
    },
    {
      "cell_type": "markdown",
      "metadata": {
        "id": "0hSd4Bn3O2PL"
      },
      "source": [
        "## **Validation**"
      ]
    },
    {
      "cell_type": "code",
      "metadata": {
        "id": "yrxrD3YsN3U2"
      },
      "source": [
        "def dev(dv_set, model, device):\n",
        "    model.eval()                                # set model to evalutation mode\n",
        "    total_loss = 0\n",
        "    for x, y in dv_set:                         # iterate through the dataloader\n",
        "        x, y = x.to(device), y.to(device)       # move data to device (cpu/cuda)\n",
        "        with torch.no_grad():                   # disable gradient calculation\n",
        "            pred = model(x)                     # forward pass (compute output)\n",
        "            mse_loss = model.cal_loss(pred, y)  # compute loss\n",
        "        total_loss += mse_loss.detach().cpu().item() * len(x)  # accumulate loss\n",
        "    total_loss = total_loss / len(dv_set.dataset)              # compute averaged loss\n",
        "\n",
        "    return total_loss"
      ],
      "execution_count": 9,
      "outputs": []
    },
    {
      "cell_type": "markdown",
      "metadata": {
        "id": "g0pdrhQAO41L"
      },
      "source": [
        "## **Testing**"
      ]
    },
    {
      "cell_type": "code",
      "metadata": {
        "id": "aSBMRFlYN5tB"
      },
      "source": [
        "def test(tt_set, model, device):\n",
        "    model.eval()                                # set model to evalutation mode\n",
        "    preds = []\n",
        "    for x in tt_set:                            # iterate through the dataloader\n",
        "        x = x.to(device)                        # move data to device (cpu/cuda)\n",
        "        with torch.no_grad():                   # disable gradient calculation\n",
        "            pred = model(x)                     # forward pass (compute output)\n",
        "            preds.append(pred.detach().cpu())   # collect prediction\n",
        "    preds = torch.cat(preds, dim=0).numpy()     # concatenate all predictions and convert to a numpy array\n",
        "    return preds"
      ],
      "execution_count": 10,
      "outputs": []
    },
    {
      "cell_type": "markdown",
      "metadata": {
        "id": "SvckkF5dvf0j"
      },
      "source": [
        "# **Setup Hyper-parameters**\n",
        "\n",
        "`config` contains hyper-parameters for training and the path to save your model."
      ]
    },
    {
      "cell_type": "code",
      "metadata": {
        "id": "NPXpdumwPjE7"
      },
      "source": [
        "device = get_device()                 # get the current available device ('cpu' or 'cuda')\n",
        "os.makedirs('models', exist_ok=True)  # The trained model will be saved to ./models/\n",
        "target_only = False                   # TODO: Using 40 states & 2 tested_positive features\n",
        "\n",
        "# TODO: How to tune these hyper-parameters to improve your model's performance?\n",
        "config = {\n",
        "    'fold_num': 5,\n",
        "    'n_epochs': 5000,                # maximum number of epochs\n",
        "    'batch_size': 200,               # mini-batch size for dataloader\n",
        "    'optimizer': 'SGD',              # optimization algorithm (optimizer in torch.optim)\n",
        "    'optim_hparas': {                # hyper-parameters for the optimizer (depends on which optimizer you are using)\n",
        "        'lr': 0.001,                 # learning rate of SGD\n",
        "        'momentum': 0.9,              # momentum for SGD\n",
        "        'weight_decay': 1e-6\n",
        "        #'lr': 1e-4,                 # learning rate of Adam\n",
        "        #'weight_decay': 1e-6              # momentum for Adam\n",
        "    },\n",
        "    'early_stop': 300,               # early stopping epochs (the number epochs since your model's last improvement)\n",
        "    # 'save_path': 'models/model.pth'  # your model will be saved here\n",
        "}"
      ],
      "execution_count": 11,
      "outputs": []
    },
    {
      "cell_type": "markdown",
      "metadata": {
        "id": "6j1eOV3TOH-j"
      },
      "source": [
        "# **开始训练**"
      ]
    },
    {
      "cell_type": "code",
      "metadata": {
        "colab": {
          "base_uri": "https://localhost:8080/"
        },
        "id": "riZO5nEkzXgt",
        "outputId": "4c54f3ec-b353-4079-e8da-3fe7c7e30230"
      },
      "source": [
        "for fold in range(5):\n",
        "  print('Model ', fold, ' start training!')\n",
        "  tr_set = prep_dataloader(tr_path, 'train', config['batch_size'], fold, target_only=target_only)\n",
        "  dv_set = prep_dataloader(tr_path, 'dev', config['batch_size'], fold, target_only=target_only)\n",
        "  model = NeuralNet(tr_set.dataset.dim).to(device)  # Construct model and move to device\n",
        "  model_loss, model_loss_record = train(tr_set, dv_set, model, config, device, fold)\n",
        "\n",
        "  del model"
      ],
      "execution_count": 12,
      "outputs": [
        {
          "output_type": "stream",
          "text": [
            "Model  0  start training!\n",
            "Finished reading the train set of COVID19 Dataset (2160 samples found, each dim = 78)\n",
            "Finished reading the dev set of COVID19 Dataset (540 samples found, each dim = 78)\n",
            "Saving model (epoch =    1, train loss = 251.5282, dev loss = 236.567426)\n",
            "Saving model (epoch =    2, train loss = 68.4863, dev loss = 92.446802)\n",
            "Saving model (epoch =    3, train loss = 20.3497, dev loss = 34.026524)\n",
            "Saving model (epoch =    4, train loss = 12.8303, dev loss = 14.887577)\n",
            "Saving model (epoch =    5, train loss = 7.5224, dev loss = 8.184994)\n",
            "Saving model (epoch =    6, train loss = 5.1088, dev loss = 7.311154)\n",
            "Saving model (epoch =    7, train loss = 4.4401, dev loss = 4.179840)\n",
            "Saving model (epoch =    8, train loss = 3.1419, dev loss = 3.223811)\n",
            "Saving model (epoch =    9, train loss = 3.4617, dev loss = 2.666975)\n",
            "Saving model (epoch =   11, train loss = 2.3772, dev loss = 2.435452)\n",
            "Saving model (epoch =   12, train loss = 3.6670, dev loss = 2.368988)\n",
            "Saving model (epoch =   13, train loss = 1.9989, dev loss = 2.340185)\n",
            "Saving model (epoch =   14, train loss = 1.9200, dev loss = 1.986330)\n",
            "Saving model (epoch =   21, train loss = 1.6705, dev loss = 1.761850)\n",
            "Saving model (epoch =   23, train loss = 1.8502, dev loss = 1.645118)\n",
            "Saving model (epoch =   27, train loss = 1.8743, dev loss = 1.580980)\n",
            "Saving model (epoch =   34, train loss = 1.9875, dev loss = 1.515250)\n",
            "Saving model (epoch =   35, train loss = 1.9328, dev loss = 1.443297)\n",
            "Saving model (epoch =   55, train loss = 1.3680, dev loss = 1.425955)\n",
            "Saving model (epoch =   63, train loss = 1.2639, dev loss = 1.419043)\n",
            "Saving model (epoch =   64, train loss = 2.2672, dev loss = 1.416840)\n",
            "Saving model (epoch =   68, train loss = 1.7621, dev loss = 1.378702)\n",
            "Saving model (epoch =   69, train loss = 1.2202, dev loss = 1.332310)\n",
            "Saving model (epoch =   70, train loss = 1.6608, dev loss = 1.325922)\n",
            "Saving model (epoch =   76, train loss = 1.6309, dev loss = 1.283752)\n",
            "Saving model (epoch =   88, train loss = 1.7425, dev loss = 1.249635)\n",
            "Saving model (epoch =   92, train loss = 1.1712, dev loss = 1.225389)\n",
            "Saving model (epoch =   93, train loss = 1.1052, dev loss = 1.223264)\n",
            "Saving model (epoch =  120, train loss = 1.0930, dev loss = 1.218839)\n",
            "Saving model (epoch =  121, train loss = 1.0752, dev loss = 1.189907)\n",
            "Saving model (epoch =  134, train loss = 1.5161, dev loss = 1.161730)\n",
            "Saving model (epoch =  144, train loss = 1.2865, dev loss = 1.160043)\n",
            "Saving model (epoch =  147, train loss = 1.4996, dev loss = 1.153514)\n",
            "Saving model (epoch =  153, train loss = 1.3579, dev loss = 1.144094)\n",
            "Saving model (epoch =  155, train loss = 1.1564, dev loss = 1.117849)\n",
            "Saving model (epoch =  181, train loss = 1.2228, dev loss = 1.082535)\n",
            "Saving model (epoch =  185, train loss = 1.1078, dev loss = 1.081984)\n",
            "Saving model (epoch =  212, train loss = 0.9767, dev loss = 1.076543)\n",
            "Saving model (epoch =  214, train loss = 1.6348, dev loss = 1.075696)\n",
            "Saving model (epoch =  220, train loss = 1.0313, dev loss = 1.066299)\n",
            "Saving model (epoch =  222, train loss = 1.1154, dev loss = 1.026002)\n",
            "Saving model (epoch =  250, train loss = 1.1332, dev loss = 1.017427)\n",
            "Saving model (epoch =  264, train loss = 1.0781, dev loss = 0.987539)\n",
            "Saving model (epoch =  307, train loss = 1.0089, dev loss = 0.983797)\n",
            "Saving model (epoch =  309, train loss = 1.0317, dev loss = 0.951864)\n",
            "Saving model (epoch =  346, train loss = 1.1251, dev loss = 0.919320)\n",
            "Saving model (epoch =  435, train loss = 0.9158, dev loss = 0.907704)\n",
            "Saving model (epoch =  492, train loss = 0.8887, dev loss = 0.905503)\n",
            "Saving model (epoch =  500, train loss = 1.3096, dev loss = 0.904066)\n",
            "Saving model (epoch =  511, train loss = 0.9787, dev loss = 0.874862)\n",
            "Saving model (epoch =  528, train loss = 0.9285, dev loss = 0.860402)\n",
            "Saving model (epoch =  627, train loss = 0.9145, dev loss = 0.845319)\n",
            "Saving model (epoch =  670, train loss = 1.0232, dev loss = 0.844566)\n",
            "Saving model (epoch =  713, train loss = 0.8500, dev loss = 0.840497)\n",
            "Saving model (epoch =  741, train loss = 1.3411, dev loss = 0.836566)\n",
            "Saving model (epoch =  766, train loss = 0.9109, dev loss = 0.834323)\n",
            "Saving model (epoch =  828, train loss = 0.8185, dev loss = 0.832321)\n",
            "Saving model (epoch =  846, train loss = 0.8235, dev loss = 0.828133)\n",
            "Saving model (epoch =  875, train loss = 1.0379, dev loss = 0.808304)\n",
            "Finished training after 1176 epochs\n",
            "Model  1  start training!\n",
            "Finished reading the train set of COVID19 Dataset (2160 samples found, each dim = 78)\n",
            "Finished reading the dev set of COVID19 Dataset (540 samples found, each dim = 78)\n",
            "Saving model (epoch =    1, train loss = 264.4055, dev loss = 231.262805)\n",
            "Saving model (epoch =    2, train loss = 81.3659, dev loss = 100.854658)\n",
            "Saving model (epoch =    3, train loss = 18.2138, dev loss = 29.443480)\n",
            "Saving model (epoch =    4, train loss = 15.1442, dev loss = 10.198504)\n",
            "Saving model (epoch =    5, train loss = 10.2974, dev loss = 7.212436)\n",
            "Saving model (epoch =    6, train loss = 6.9004, dev loss = 6.410916)\n",
            "Saving model (epoch =    7, train loss = 4.9293, dev loss = 5.378731)\n",
            "Saving model (epoch =    8, train loss = 3.5685, dev loss = 3.950450)\n",
            "Saving model (epoch =    9, train loss = 3.1538, dev loss = 3.542146)\n",
            "Saving model (epoch =   10, train loss = 3.6852, dev loss = 3.137137)\n",
            "Saving model (epoch =   11, train loss = 3.0879, dev loss = 2.604910)\n",
            "Saving model (epoch =   12, train loss = 3.5435, dev loss = 2.540565)\n",
            "Saving model (epoch =   13, train loss = 2.8055, dev loss = 2.425450)\n",
            "Saving model (epoch =   14, train loss = 2.4600, dev loss = 2.333361)\n",
            "Saving model (epoch =   16, train loss = 2.0119, dev loss = 2.278821)\n",
            "Saving model (epoch =   17, train loss = 2.3060, dev loss = 2.059083)\n",
            "Saving model (epoch =   22, train loss = 2.7012, dev loss = 1.990117)\n",
            "Saving model (epoch =   25, train loss = 2.0579, dev loss = 1.962187)\n",
            "Saving model (epoch =   26, train loss = 1.7427, dev loss = 1.843028)\n",
            "Saving model (epoch =   29, train loss = 2.0444, dev loss = 1.740150)\n",
            "Saving model (epoch =   30, train loss = 1.6599, dev loss = 1.706055)\n",
            "Saving model (epoch =   34, train loss = 1.8178, dev loss = 1.681067)\n",
            "Saving model (epoch =   36, train loss = 1.4747, dev loss = 1.629035)\n",
            "Saving model (epoch =   47, train loss = 1.4211, dev loss = 1.546099)\n",
            "Saving model (epoch =   57, train loss = 2.0640, dev loss = 1.484950)\n",
            "Saving model (epoch =   72, train loss = 2.1251, dev loss = 1.479515)\n",
            "Saving model (epoch =   80, train loss = 1.0953, dev loss = 1.440977)\n",
            "Saving model (epoch =   82, train loss = 1.0545, dev loss = 1.419124)\n",
            "Saving model (epoch =   89, train loss = 0.9720, dev loss = 1.401053)\n",
            "Saving model (epoch =  103, train loss = 1.0683, dev loss = 1.399764)\n",
            "Saving model (epoch =  106, train loss = 0.9856, dev loss = 1.364212)\n",
            "Saving model (epoch =  109, train loss = 1.2280, dev loss = 1.351370)\n",
            "Saving model (epoch =  137, train loss = 1.2012, dev loss = 1.328436)\n",
            "Saving model (epoch =  145, train loss = 1.2348, dev loss = 1.326172)\n",
            "Saving model (epoch =  148, train loss = 0.9242, dev loss = 1.323613)\n",
            "Saving model (epoch =  149, train loss = 1.4746, dev loss = 1.301374)\n",
            "Saving model (epoch =  151, train loss = 1.0207, dev loss = 1.275681)\n",
            "Saving model (epoch =  168, train loss = 1.6124, dev loss = 1.260257)\n",
            "Saving model (epoch =  169, train loss = 1.1709, dev loss = 1.253159)\n",
            "Saving model (epoch =  192, train loss = 0.9153, dev loss = 1.249401)\n",
            "Saving model (epoch =  193, train loss = 1.1415, dev loss = 1.225490)\n",
            "Saving model (epoch =  206, train loss = 1.0738, dev loss = 1.200791)\n",
            "Saving model (epoch =  212, train loss = 1.3274, dev loss = 1.197015)\n",
            "Saving model (epoch =  240, train loss = 1.3335, dev loss = 1.189984)\n",
            "Saving model (epoch =  258, train loss = 1.0721, dev loss = 1.167585)\n",
            "Saving model (epoch =  277, train loss = 1.2524, dev loss = 1.149519)\n",
            "Saving model (epoch =  330, train loss = 1.0109, dev loss = 1.145940)\n",
            "Saving model (epoch =  344, train loss = 1.0813, dev loss = 1.142404)\n",
            "Saving model (epoch =  345, train loss = 0.9542, dev loss = 1.140645)\n",
            "Saving model (epoch =  347, train loss = 0.9085, dev loss = 1.137095)\n",
            "Saving model (epoch =  353, train loss = 0.9955, dev loss = 1.132271)\n",
            "Saving model (epoch =  356, train loss = 1.1195, dev loss = 1.126253)\n",
            "Saving model (epoch =  402, train loss = 0.9809, dev loss = 1.121654)\n",
            "Saving model (epoch =  413, train loss = 1.1636, dev loss = 1.101405)\n",
            "Finished training after 714 epochs\n",
            "Model  2  start training!\n",
            "Finished reading the train set of COVID19 Dataset (2160 samples found, each dim = 78)\n",
            "Finished reading the dev set of COVID19 Dataset (540 samples found, each dim = 78)\n",
            "Saving model (epoch =    1, train loss = 240.3154, dev loss = 241.300014)\n",
            "Saving model (epoch =    2, train loss = 83.6914, dev loss = 97.838727)\n",
            "Saving model (epoch =    3, train loss = 15.5607, dev loss = 27.093682)\n",
            "Saving model (epoch =    4, train loss = 9.4395, dev loss = 12.845197)\n",
            "Saving model (epoch =    5, train loss = 6.1885, dev loss = 6.852809)\n",
            "Saving model (epoch =    6, train loss = 6.4670, dev loss = 5.645543)\n",
            "Saving model (epoch =    7, train loss = 4.5548, dev loss = 3.718558)\n",
            "Saving model (epoch =    8, train loss = 3.1906, dev loss = 3.095009)\n",
            "Saving model (epoch =   10, train loss = 2.3457, dev loss = 2.794046)\n",
            "Saving model (epoch =   11, train loss = 3.0419, dev loss = 2.399732)\n",
            "Saving model (epoch =   13, train loss = 2.7595, dev loss = 2.128172)\n",
            "Saving model (epoch =   15, train loss = 2.1060, dev loss = 1.974061)\n",
            "Saving model (epoch =   18, train loss = 2.2211, dev loss = 1.824916)\n",
            "Saving model (epoch =   19, train loss = 1.7535, dev loss = 1.759187)\n",
            "Saving model (epoch =   21, train loss = 1.8216, dev loss = 1.695315)\n",
            "Saving model (epoch =   23, train loss = 1.6463, dev loss = 1.634566)\n",
            "Saving model (epoch =   31, train loss = 2.0395, dev loss = 1.607564)\n",
            "Saving model (epoch =   38, train loss = 1.6173, dev loss = 1.595556)\n",
            "Saving model (epoch =   50, train loss = 1.3114, dev loss = 1.539334)\n",
            "Saving model (epoch =   56, train loss = 1.8215, dev loss = 1.508706)\n",
            "Saving model (epoch =   61, train loss = 1.5275, dev loss = 1.508466)\n",
            "Saving model (epoch =   79, train loss = 1.3386, dev loss = 1.441254)\n",
            "Saving model (epoch =   95, train loss = 1.3019, dev loss = 1.401017)\n",
            "Saving model (epoch =  115, train loss = 0.9474, dev loss = 1.346272)\n",
            "Saving model (epoch =  143, train loss = 1.2128, dev loss = 1.327055)\n",
            "Saving model (epoch =  151, train loss = 1.4024, dev loss = 1.317774)\n",
            "Saving model (epoch =  153, train loss = 1.0614, dev loss = 1.315988)\n",
            "Saving model (epoch =  154, train loss = 1.0292, dev loss = 1.311400)\n",
            "Saving model (epoch =  181, train loss = 1.0800, dev loss = 1.306831)\n",
            "Saving model (epoch =  191, train loss = 1.2446, dev loss = 1.306063)\n",
            "Saving model (epoch =  203, train loss = 1.0515, dev loss = 1.284837)\n",
            "Saving model (epoch =  222, train loss = 0.9806, dev loss = 1.283976)\n",
            "Saving model (epoch =  225, train loss = 1.0750, dev loss = 1.243180)\n",
            "Saving model (epoch =  263, train loss = 1.1412, dev loss = 1.242386)\n",
            "Saving model (epoch =  301, train loss = 1.2319, dev loss = 1.233968)\n",
            "Saving model (epoch =  314, train loss = 1.2413, dev loss = 1.229781)\n",
            "Saving model (epoch =  351, train loss = 0.8908, dev loss = 1.225824)\n",
            "Saving model (epoch =  426, train loss = 1.1524, dev loss = 1.204302)\n",
            "Saving model (epoch =  476, train loss = 0.7331, dev loss = 1.200485)\n",
            "Saving model (epoch =  514, train loss = 1.0483, dev loss = 1.194331)\n",
            "Saving model (epoch =  539, train loss = 0.7644, dev loss = 1.187557)\n",
            "Saving model (epoch =  576, train loss = 0.8804, dev loss = 1.176962)\n",
            "Saving model (epoch =  578, train loss = 1.0461, dev loss = 1.149696)\n",
            "Saving model (epoch =  810, train loss = 0.9421, dev loss = 1.134871)\n",
            "Saving model (epoch =  963, train loss = 1.0116, dev loss = 1.128417)\n",
            "Saving model (epoch = 1094, train loss = 0.8288, dev loss = 1.126100)\n",
            "Saving model (epoch = 1118, train loss = 0.8570, dev loss = 1.125825)\n",
            "Finished training after 1419 epochs\n",
            "Model  3  start training!\n",
            "Finished reading the train set of COVID19 Dataset (2160 samples found, each dim = 78)\n",
            "Finished reading the dev set of COVID19 Dataset (540 samples found, each dim = 78)\n",
            "Saving model (epoch =    1, train loss = 221.2485, dev loss = 227.475969)\n",
            "Saving model (epoch =    2, train loss = 50.7539, dev loss = 71.568547)\n",
            "Saving model (epoch =    3, train loss = 22.7436, dev loss = 29.565404)\n",
            "Saving model (epoch =    4, train loss = 9.1761, dev loss = 13.059333)\n",
            "Saving model (epoch =    5, train loss = 6.9702, dev loss = 9.222437)\n",
            "Saving model (epoch =    6, train loss = 5.7551, dev loss = 6.554825)\n",
            "Saving model (epoch =    7, train loss = 3.8575, dev loss = 3.660146)\n",
            "Saving model (epoch =    8, train loss = 3.2853, dev loss = 2.913408)\n",
            "Saving model (epoch =    9, train loss = 2.9361, dev loss = 2.475980)\n",
            "Saving model (epoch =   11, train loss = 2.2979, dev loss = 2.299701)\n",
            "Saving model (epoch =   12, train loss = 2.5570, dev loss = 2.098284)\n",
            "Saving model (epoch =   15, train loss = 1.7853, dev loss = 1.944481)\n",
            "Saving model (epoch =   16, train loss = 2.1094, dev loss = 1.833024)\n",
            "Saving model (epoch =   19, train loss = 1.8928, dev loss = 1.670235)\n",
            "Saving model (epoch =   20, train loss = 1.6638, dev loss = 1.599813)\n",
            "Saving model (epoch =   28, train loss = 1.7533, dev loss = 1.587932)\n",
            "Saving model (epoch =   29, train loss = 2.0450, dev loss = 1.542656)\n",
            "Saving model (epoch =   32, train loss = 1.7145, dev loss = 1.536609)\n",
            "Saving model (epoch =   37, train loss = 1.6755, dev loss = 1.521049)\n",
            "Saving model (epoch =   40, train loss = 1.3307, dev loss = 1.497896)\n",
            "Saving model (epoch =   41, train loss = 1.5321, dev loss = 1.479287)\n",
            "Saving model (epoch =   47, train loss = 1.5803, dev loss = 1.407906)\n",
            "Saving model (epoch =   57, train loss = 1.5144, dev loss = 1.402565)\n",
            "Saving model (epoch =   58, train loss = 1.7632, dev loss = 1.357653)\n",
            "Saving model (epoch =   62, train loss = 1.3737, dev loss = 1.346041)\n",
            "Saving model (epoch =   79, train loss = 1.3164, dev loss = 1.326555)\n",
            "Saving model (epoch =   87, train loss = 1.4754, dev loss = 1.325423)\n",
            "Saving model (epoch =   90, train loss = 1.2587, dev loss = 1.216880)\n",
            "Saving model (epoch =  121, train loss = 1.5342, dev loss = 1.176398)\n",
            "Saving model (epoch =  143, train loss = 1.2635, dev loss = 1.165841)\n",
            "Saving model (epoch =  154, train loss = 1.3920, dev loss = 1.149536)\n",
            "Saving model (epoch =  165, train loss = 1.0333, dev loss = 1.122221)\n",
            "Saving model (epoch =  184, train loss = 1.0259, dev loss = 1.066329)\n",
            "Saving model (epoch =  188, train loss = 1.1188, dev loss = 1.045596)\n",
            "Saving model (epoch =  273, train loss = 1.3314, dev loss = 1.040499)\n",
            "Saving model (epoch =  309, train loss = 1.3239, dev loss = 1.033679)\n",
            "Saving model (epoch =  310, train loss = 1.0775, dev loss = 1.025725)\n",
            "Saving model (epoch =  330, train loss = 1.1477, dev loss = 1.017482)\n",
            "Saving model (epoch =  333, train loss = 1.1252, dev loss = 1.011104)\n",
            "Saving model (epoch =  348, train loss = 0.9902, dev loss = 0.988210)\n",
            "Saving model (epoch =  364, train loss = 1.2341, dev loss = 0.986304)\n",
            "Saving model (epoch =  393, train loss = 0.8787, dev loss = 0.962902)\n",
            "Saving model (epoch =  421, train loss = 0.8607, dev loss = 0.956862)\n",
            "Saving model (epoch =  429, train loss = 1.2866, dev loss = 0.956680)\n",
            "Saving model (epoch =  503, train loss = 1.1791, dev loss = 0.952741)\n",
            "Saving model (epoch =  506, train loss = 1.0793, dev loss = 0.933719)\n",
            "Saving model (epoch =  529, train loss = 0.8216, dev loss = 0.929162)\n",
            "Saving model (epoch =  545, train loss = 1.0419, dev loss = 0.916624)\n",
            "Saving model (epoch =  556, train loss = 1.0045, dev loss = 0.908895)\n",
            "Saving model (epoch =  578, train loss = 1.0846, dev loss = 0.905204)\n",
            "Saving model (epoch =  646, train loss = 0.9077, dev loss = 0.903073)\n",
            "Saving model (epoch =  668, train loss = 0.8853, dev loss = 0.899600)\n",
            "Saving model (epoch =  715, train loss = 1.1074, dev loss = 0.887625)\n",
            "Saving model (epoch =  721, train loss = 0.8920, dev loss = 0.879061)\n",
            "Saving model (epoch =  737, train loss = 0.8967, dev loss = 0.871479)\n",
            "Saving model (epoch =  813, train loss = 0.9722, dev loss = 0.868491)\n",
            "Saving model (epoch =  889, train loss = 0.9699, dev loss = 0.864144)\n",
            "Saving model (epoch =  921, train loss = 0.9292, dev loss = 0.861019)\n",
            "Saving model (epoch =  963, train loss = 1.1041, dev loss = 0.855604)\n",
            "Saving model (epoch = 1038, train loss = 0.8199, dev loss = 0.838252)\n",
            "Finished training after 1339 epochs\n",
            "Model  4  start training!\n",
            "Finished reading the train set of COVID19 Dataset (2160 samples found, each dim = 78)\n",
            "Finished reading the dev set of COVID19 Dataset (540 samples found, each dim = 78)\n",
            "Saving model (epoch =    1, train loss = 238.1379, dev loss = 204.430300)\n",
            "Saving model (epoch =    2, train loss = 108.0181, dev loss = 96.702406)\n",
            "Saving model (epoch =    3, train loss = 25.9377, dev loss = 30.015095)\n",
            "Saving model (epoch =    4, train loss = 9.9528, dev loss = 10.407475)\n",
            "Saving model (epoch =    5, train loss = 8.3379, dev loss = 6.031245)\n",
            "Saving model (epoch =    6, train loss = 7.2361, dev loss = 5.950279)\n",
            "Saving model (epoch =    7, train loss = 5.4041, dev loss = 4.584129)\n",
            "Saving model (epoch =    8, train loss = 3.8720, dev loss = 4.365687)\n",
            "Saving model (epoch =    9, train loss = 3.4967, dev loss = 3.315100)\n",
            "Saving model (epoch =   10, train loss = 2.8396, dev loss = 2.241508)\n",
            "Saving model (epoch =   14, train loss = 2.7533, dev loss = 2.038861)\n",
            "Saving model (epoch =   19, train loss = 2.1743, dev loss = 1.754755)\n",
            "Saving model (epoch =   20, train loss = 2.0743, dev loss = 1.732664)\n",
            "Saving model (epoch =   25, train loss = 2.2223, dev loss = 1.720377)\n",
            "Saving model (epoch =   33, train loss = 1.8893, dev loss = 1.659055)\n",
            "Saving model (epoch =   39, train loss = 1.8137, dev loss = 1.576914)\n",
            "Saving model (epoch =   50, train loss = 1.7847, dev loss = 1.518894)\n",
            "Saving model (epoch =   51, train loss = 1.5642, dev loss = 1.506724)\n",
            "Saving model (epoch =   59, train loss = 1.2721, dev loss = 1.485074)\n",
            "Saving model (epoch =   67, train loss = 1.2986, dev loss = 1.394360)\n",
            "Saving model (epoch =   81, train loss = 1.1882, dev loss = 1.375380)\n",
            "Saving model (epoch =   85, train loss = 1.3834, dev loss = 1.320373)\n",
            "Saving model (epoch =   88, train loss = 1.2243, dev loss = 1.276553)\n",
            "Saving model (epoch =  130, train loss = 1.5769, dev loss = 1.268728)\n",
            "Saving model (epoch =  133, train loss = 1.2287, dev loss = 1.259995)\n",
            "Saving model (epoch =  140, train loss = 1.4346, dev loss = 1.249250)\n",
            "Saving model (epoch =  150, train loss = 1.2162, dev loss = 1.227442)\n",
            "Saving model (epoch =  169, train loss = 1.0528, dev loss = 1.181803)\n",
            "Saving model (epoch =  216, train loss = 1.1850, dev loss = 1.163945)\n",
            "Saving model (epoch =  225, train loss = 1.2393, dev loss = 1.161967)\n",
            "Saving model (epoch =  286, train loss = 1.1496, dev loss = 1.143254)\n",
            "Finished training after 587 epochs\n"
          ],
          "name": "stdout"
        }
      ]
    },
    {
      "cell_type": "markdown",
      "metadata": {
        "id": "aQikz3IPiyPf"
      },
      "source": [
        "# **Testing**\n",
        "The predictions of your model on testing set will be stored at `pred.csv`."
      ]
    },
    {
      "cell_type": "code",
      "metadata": {
        "colab": {
          "base_uri": "https://localhost:8080/"
        },
        "id": "O8cTuQjQQOon",
        "outputId": "7c7b822b-884a-40bc-af2e-809315755c6b"
      },
      "source": [
        "def save_pred(preds, file):\n",
        "    ''' Save predictions to specified file '''\n",
        "    print('Saving results to {}'.format(file))\n",
        "    with open(file, 'w') as fp:\n",
        "        writer = csv.writer(fp)\n",
        "        writer.writerow(['id', 'tested_positive'])\n",
        "        for i, p in enumerate(preds):\n",
        "            writer.writerow([i, p])\n",
        "path = '/models/model.pth'\n",
        "pred = []\n",
        "for i in range(5):\n",
        "  model = NeuralNet(tr_set.dataset.dim).to(device)\n",
        "  ckpt = torch.load('models/model' + str(i) + '.pth', map_location='cpu')  # Load your best model\n",
        "  model.load_state_dict(ckpt)\n",
        "  tt_set = prep_dataloader(tt_path, 'test', config['batch_size'], i, target_only=target_only)\n",
        "  preds = test(tt_set, model, device)  # predict COVID-19 cases with your model\n",
        "  pred += [test(tt_set, model, device)]\n",
        "  print(preds[:5])\n",
        "  print(preds.shape)\n",
        "preds = np.concatenate(pred)  # 拼接\n",
        "preds = preds.reshape((-1,893))  # reshape成(5, 893)\n",
        "preds = np.mean(preds, axis=0) # axis=0，计算每一列的均值\n",
        "save_pred(preds, 'pred.csv')         # save prediction file to pred.csv"
      ],
      "execution_count": 17,
      "outputs": [
        {
          "output_type": "stream",
          "text": [
            "Finished reading the test set of COVID19 Dataset (893 samples found, each dim = 78)\n",
            "[20.461685   3.1870391  3.3155158 10.840319   3.2112334]\n",
            "(893,)\n",
            "Finished reading the test set of COVID19 Dataset (893 samples found, each dim = 78)\n",
            "[20.769821   2.958387   3.060844  10.860355   3.6221693]\n",
            "(893,)\n",
            "Finished reading the test set of COVID19 Dataset (893 samples found, each dim = 78)\n",
            "[20.301563   2.6114378  2.5979648 10.354824   2.866485 ]\n",
            "(893,)\n",
            "Finished reading the test set of COVID19 Dataset (893 samples found, each dim = 78)\n",
            "[20.40987    2.3792107  2.803878  10.360481   2.7472353]\n",
            "(893,)\n",
            "Finished reading the test set of COVID19 Dataset (893 samples found, each dim = 78)\n",
            "[20.694126   2.5977337  2.783979  10.367838   2.8152301]\n",
            "(893,)\n",
            "(5, 893)\n",
            "[20.461685   3.1870391  3.3155158 10.840319   3.2112334]\n",
            "[20.769821   2.958387   3.060844  10.860355   3.6221693]\n",
            "[20.301563   2.6114378  2.5979648 10.354824   2.866485 ]\n",
            "(893,)\n",
            "20.527414\n",
            "Saving results to pred.csv\n"
          ],
          "name": "stdout"
        }
      ]
    },
    {
      "cell_type": "markdown",
      "metadata": {
        "id": "nfrVxqJanGpE"
      },
      "source": [
        "# **Hints**\n",
        "\n",
        "## **Simple Baseline**\n",
        "* Run sample code\n",
        "\n",
        "## **Medium Baseline**\n",
        "* Feature selection: 40 states + 2 `tested_positive` (`TODO` in dataset)\n",
        "\n",
        "## **Strong Baseline**\n",
        "* Feature selection (what other features are useful?)\n",
        "* DNN architecture (layers? dimension? activation function?)\n",
        "* Training (mini-batch? optimizer? learning rate?)\n",
        "* L2 regularization\n",
        "* There are some mistakes in the sample code, can you find them?"
      ]
    },
    {
      "cell_type": "markdown",
      "metadata": {
        "id": "9tmCwXgpot3t"
      },
      "source": [
        "# **Reference**\n",
        "This code is completely written by Heng-Jui Chang @ NTUEE.  \n",
        "Copying or reusing this code is required to specify the original author. \n",
        "\n",
        "E.g.  \n",
        "Source: Heng-Jui Chang @ NTUEE (https://github.com/ga642381/ML2021-Spring/blob/main/HW01/HW01.ipynb)\n"
      ]
    }
  ]
}